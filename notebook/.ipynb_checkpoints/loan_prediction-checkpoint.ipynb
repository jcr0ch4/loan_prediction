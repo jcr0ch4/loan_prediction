{
 "cells": [
  {
   "cell_type": "markdown",
   "metadata": {},
   "source": [
    "Data Dictionary\n",
    "Train file: CSV containing the customers for whom loan eligibility is known as 'Loan_Status'\n",
    "\n",
    "\n",
    "| Variable   |      Description      |\n",
    "|------------|-------------:|\n",
    "|Loan_ID\t| Unique Loan ID|\n",
    "|Gender\t|Male/ Female|\n",
    "|Married\t|Applicant married (Y/N)|\n",
    "|Dependents\t|Number of dependents|\n",
    "|Education\t|Applicant Education (Graduate/ Under Graduate)|\n",
    "|Self_Employed\t|Self employed (Y/N)|\n",
    "|ApplicantIncome\t|Applicant income|\n",
    "|CoapplicantIncome\t|Coapplicant income|\n",
    "|LoanAmount\t|Loan amount in thousands|\n",
    "|Loan_Amount_Term\t|Term of loan in months|\n",
    "|Credit_History\t|credit history meets guidelines|\n",
    "|Property_Area\t|Urban/ Semi Urban/ Rural|\n",
    "|Loan_Status\t|(Target) Loan approved (Y/N)|\n",
    "\n",
    "\n",
    "Test file: CSV containing the customer information for whom loan eligibility is to be predicted\n",
    "\n",
    "| Variable   |      Description      |\n",
    "|------------|-------------:|\n",
    "|Loan_ID\t|Unique Loan ID|\n",
    "|Gender\t|Male/ Female|\n",
    "|Married\t|Applicant married (Y/N)|\n",
    "|Dependents\t|Number of dependents|\n",
    "|Education\t|Applicant Education (Graduate/ Under Graduate)|\n",
    "|Self_Employed\t|Self employed (Y/N)|\n",
    "|ApplicantIncome\t|Applicant income|\n",
    "|CoapplicantIncome\t|Coapplicant income|\n",
    "|LoanAmount\t|Loan amount in thousands|\n",
    "|Loan_Amount_Term\t|Term of loan in months|\n",
    "|Credit_History\t|credit history meets guidelines|\n",
    "|Property_Area\t|Urban/ Semi Urban/ Rural|\n",
    "\n",
    "\n",
    "Submission file format\n",
    "\n",
    "| Variable   |      Description      |\n",
    "|------------|-------------:|\n",
    "|Loan_ID\t |Unique Loan ID|\n",
    "|Loan_Status |\t(Target) Loan approved (Y/N)|\n"
   ]
  },
  {
   "cell_type": "code",
   "execution_count": 43,
   "metadata": {},
   "outputs": [],
   "source": [
    "# Imports\n",
    "import pandas as pd\n",
    "import numpy as np\n",
    "import matplotlib.pyplot as plt\n",
    "import seaborn as sns"
   ]
  },
  {
   "cell_type": "code",
   "execution_count": 45,
   "metadata": {},
   "outputs": [],
   "source": [
    "# One Hot Encoder\n",
    "from sklearn.preprocessing import LabelEncoder\n",
    "label_encoder = LabelEncoder()\n",
    "# valores_numericos = label_encoder.fit_transform(cor)"
   ]
  },
  {
   "cell_type": "code",
   "execution_count": 11,
   "metadata": {},
   "outputs": [],
   "source": [
    "# Add path to data files\n",
    "data_files = 'data/'\n",
    "csv_name = 'train_ctrUa4K.csv'"
   ]
  },
  {
   "cell_type": "code",
   "execution_count": 44,
   "metadata": {},
   "outputs": [],
   "source": [
    "# My functions\n",
    "def verifica_na(dataset):\n",
    "    for i in dataset.columns:\n",
    "        tamanho = dataset[i].shape[0]\n",
    "        vazio = dataset[i].isna().sum()\n",
    "        percent = (vazio / tamanho) * 100\n",
    "        if  vazio > 0:\n",
    "            print('A Coluna : {} tem  {:.8f} % de dados faltantes,sendo {} dados faltantes do total {}'.format(i,percent,vazio,tamanho))\n",
    "        else:\n",
    "            print('Sem dados Faltantes ')\n",
    "\n",
    "\n",
    "            \n",
    "def missing_values(dataset):\n",
    "    '''\n",
    "        Retorna o nome das colunas com dados faltantes\n",
    "    '''\n",
    "    colunas = []\n",
    "    for i in dataset.columns:\n",
    "        if dataset[i].isna().sum() > 0 :\n",
    "            colunas.append(i)\n",
    "    return colunas\n",
    "\n",
    "\n",
    "def information(dataset):\n",
    "    ''' \n",
    "        Return a new dataset with columns :\n",
    "        - columns ( columns in original dataset )\n",
    "        - types (data types in your dataset)\n",
    "        - size ( size of your dataset)\n",
    "        - unique ( data unique in your dataset)\n",
    "        - missing data percent ( Percent of data missing in your dataset )\n",
    "    '''\n",
    "    df_aux = pd.DataFrame({'columns':dataset.columns,\n",
    "    'types': dataset.dtypes,\n",
    "    'missing':dataset.isna().sum(),\n",
    "    'size':dataset.shape[0],\n",
    "    'unique':dataset.nunique()})\n",
    "    df_aux['missing data percent'] = round(df_aux['missing']/df_aux['size'],2)\n",
    "    return df_aux    \n",
    "\n",
    "# One Hot Encoding : transformar valores catégoricos em valores numéricos"
   ]
  },
  {
   "cell_type": "code",
   "execution_count": 30,
   "metadata": {},
   "outputs": [],
   "source": [
    "# Train Data\n",
    "train = pd.read_csv('../data/train_ctrUa4K.csv')"
   ]
  },
  {
   "cell_type": "code",
   "execution_count": 14,
   "metadata": {},
   "outputs": [
    {
     "data": {
      "text/plain": [
       "(614, 13)"
      ]
     },
     "execution_count": 14,
     "metadata": {},
     "output_type": "execute_result"
    }
   ],
   "source": [
    "train.shape"
   ]
  },
  {
   "cell_type": "code",
   "execution_count": 42,
   "metadata": {},
   "outputs": [
    {
     "data": {
      "text/html": [
       "<div>\n",
       "<style scoped>\n",
       "    .dataframe tbody tr th:only-of-type {\n",
       "        vertical-align: middle;\n",
       "    }\n",
       "\n",
       "    .dataframe tbody tr th {\n",
       "        vertical-align: top;\n",
       "    }\n",
       "\n",
       "    .dataframe thead th {\n",
       "        text-align: right;\n",
       "    }\n",
       "</style>\n",
       "<table border=\"1\" class=\"dataframe\">\n",
       "  <thead>\n",
       "    <tr style=\"text-align: right;\">\n",
       "      <th></th>\n",
       "      <th>columns</th>\n",
       "      <th>types</th>\n",
       "      <th>missing</th>\n",
       "      <th>size</th>\n",
       "      <th>unique</th>\n",
       "      <th>missing data percent</th>\n",
       "    </tr>\n",
       "  </thead>\n",
       "  <tbody>\n",
       "    <tr>\n",
       "      <th>Loan_ID</th>\n",
       "      <td>Loan_ID</td>\n",
       "      <td>object</td>\n",
       "      <td>0</td>\n",
       "      <td>614</td>\n",
       "      <td>614</td>\n",
       "      <td>0.00</td>\n",
       "    </tr>\n",
       "    <tr>\n",
       "      <th>Gender</th>\n",
       "      <td>Gender</td>\n",
       "      <td>object</td>\n",
       "      <td>13</td>\n",
       "      <td>614</td>\n",
       "      <td>2</td>\n",
       "      <td>0.02</td>\n",
       "    </tr>\n",
       "    <tr>\n",
       "      <th>Married</th>\n",
       "      <td>Married</td>\n",
       "      <td>object</td>\n",
       "      <td>3</td>\n",
       "      <td>614</td>\n",
       "      <td>2</td>\n",
       "      <td>0.00</td>\n",
       "    </tr>\n",
       "    <tr>\n",
       "      <th>Dependents</th>\n",
       "      <td>Dependents</td>\n",
       "      <td>object</td>\n",
       "      <td>15</td>\n",
       "      <td>614</td>\n",
       "      <td>4</td>\n",
       "      <td>0.02</td>\n",
       "    </tr>\n",
       "    <tr>\n",
       "      <th>Education</th>\n",
       "      <td>Education</td>\n",
       "      <td>object</td>\n",
       "      <td>0</td>\n",
       "      <td>614</td>\n",
       "      <td>2</td>\n",
       "      <td>0.00</td>\n",
       "    </tr>\n",
       "    <tr>\n",
       "      <th>Self_Employed</th>\n",
       "      <td>Self_Employed</td>\n",
       "      <td>object</td>\n",
       "      <td>32</td>\n",
       "      <td>614</td>\n",
       "      <td>2</td>\n",
       "      <td>0.05</td>\n",
       "    </tr>\n",
       "    <tr>\n",
       "      <th>ApplicantIncome</th>\n",
       "      <td>ApplicantIncome</td>\n",
       "      <td>int64</td>\n",
       "      <td>0</td>\n",
       "      <td>614</td>\n",
       "      <td>505</td>\n",
       "      <td>0.00</td>\n",
       "    </tr>\n",
       "    <tr>\n",
       "      <th>CoapplicantIncome</th>\n",
       "      <td>CoapplicantIncome</td>\n",
       "      <td>float64</td>\n",
       "      <td>0</td>\n",
       "      <td>614</td>\n",
       "      <td>287</td>\n",
       "      <td>0.00</td>\n",
       "    </tr>\n",
       "    <tr>\n",
       "      <th>LoanAmount</th>\n",
       "      <td>LoanAmount</td>\n",
       "      <td>float64</td>\n",
       "      <td>22</td>\n",
       "      <td>614</td>\n",
       "      <td>203</td>\n",
       "      <td>0.04</td>\n",
       "    </tr>\n",
       "    <tr>\n",
       "      <th>Loan_Amount_Term</th>\n",
       "      <td>Loan_Amount_Term</td>\n",
       "      <td>float64</td>\n",
       "      <td>14</td>\n",
       "      <td>614</td>\n",
       "      <td>10</td>\n",
       "      <td>0.02</td>\n",
       "    </tr>\n",
       "    <tr>\n",
       "      <th>Credit_History</th>\n",
       "      <td>Credit_History</td>\n",
       "      <td>float64</td>\n",
       "      <td>50</td>\n",
       "      <td>614</td>\n",
       "      <td>2</td>\n",
       "      <td>0.08</td>\n",
       "    </tr>\n",
       "    <tr>\n",
       "      <th>Property_Area</th>\n",
       "      <td>Property_Area</td>\n",
       "      <td>object</td>\n",
       "      <td>0</td>\n",
       "      <td>614</td>\n",
       "      <td>3</td>\n",
       "      <td>0.00</td>\n",
       "    </tr>\n",
       "    <tr>\n",
       "      <th>Loan_Status</th>\n",
       "      <td>Loan_Status</td>\n",
       "      <td>object</td>\n",
       "      <td>0</td>\n",
       "      <td>614</td>\n",
       "      <td>2</td>\n",
       "      <td>0.00</td>\n",
       "    </tr>\n",
       "  </tbody>\n",
       "</table>\n",
       "</div>"
      ],
      "text/plain": [
       "                             columns    types  missing  size  unique  \\\n",
       "Loan_ID                      Loan_ID   object        0   614     614   \n",
       "Gender                        Gender   object       13   614       2   \n",
       "Married                      Married   object        3   614       2   \n",
       "Dependents                Dependents   object       15   614       4   \n",
       "Education                  Education   object        0   614       2   \n",
       "Self_Employed          Self_Employed   object       32   614       2   \n",
       "ApplicantIncome      ApplicantIncome    int64        0   614     505   \n",
       "CoapplicantIncome  CoapplicantIncome  float64        0   614     287   \n",
       "LoanAmount                LoanAmount  float64       22   614     203   \n",
       "Loan_Amount_Term    Loan_Amount_Term  float64       14   614      10   \n",
       "Credit_History        Credit_History  float64       50   614       2   \n",
       "Property_Area          Property_Area   object        0   614       3   \n",
       "Loan_Status              Loan_Status   object        0   614       2   \n",
       "\n",
       "                   missing data percent  \n",
       "Loan_ID                            0.00  \n",
       "Gender                             0.02  \n",
       "Married                            0.00  \n",
       "Dependents                         0.02  \n",
       "Education                          0.00  \n",
       "Self_Employed                      0.05  \n",
       "ApplicantIncome                    0.00  \n",
       "CoapplicantIncome                  0.00  \n",
       "LoanAmount                         0.04  \n",
       "Loan_Amount_Term                   0.02  \n",
       "Credit_History                     0.08  \n",
       "Property_Area                      0.00  \n",
       "Loan_Status                        0.00  "
      ]
     },
     "execution_count": 42,
     "metadata": {},
     "output_type": "execute_result"
    }
   ],
   "source": [
    "# Information about dataset\n",
    "information(train)"
   ]
  },
  {
   "cell_type": "code",
   "execution_count": 28,
   "metadata": {},
   "outputs": [
    {
     "data": {
      "text/plain": [
       "['Gender',\n",
       " 'Married',\n",
       " 'Dependents',\n",
       " 'Self_Employed',\n",
       " 'LoanAmount',\n",
       " 'Loan_Amount_Term',\n",
       " 'Credit_History']"
      ]
     },
     "execution_count": 28,
     "metadata": {},
     "output_type": "execute_result"
    }
   ],
   "source": [
    "# FEATURES WITH MISSING VALUES\n",
    "missing_values(train)"
   ]
  },
  {
   "cell_type": "code",
   "execution_count": 48,
   "metadata": {},
   "outputs": [
    {
     "data": {
      "image/png": "[encoded data removed]",
      "text/plain": [
       "<Figure size 432x288 with 1 Axes>"
      ]
     },
     "metadata": {
      "needs_background": "light"
     },
     "output_type": "display_data"
    },
    {
     "data": {
      "image/png": "[encoded data removed]",
      "text/plain": [
       "<Figure size 432x288 with 1 Axes>"
      ]
     },
     "metadata": {
      "needs_background": "light"
     },
     "output_type": "display_data"
    }
   ],
   "source": [
    "sns.countplot(train.Married)\n",
    "plt.show()\n",
    "sns.countplot(train.Gender)\n",
    "plt.show()"
   ]
  },
  {
   "cell_type": "code",
   "execution_count": 53,
   "metadata": {},
   "outputs": [],
   "source": [
    "# Loan_Status\n",
    "valores_numericos = label_encoder.fit(train[\"Loan_Status\"])\n",
    "###########\n",
    "# 0 = No\n",
    "# 1 = Yes"
   ]
  },
  {
   "cell_type": "code",
   "execution_count": 60,
   "metadata": {},
   "outputs": [],
   "source": [
    "# transform Loan_Status to numeric Feature\n",
    "train['Loan_Status_X'] = label_encoder.fit_transform(train[\"Loan_Status\"])"
   ]
  },
  {
   "cell_type": "code",
   "execution_count": 61,
   "metadata": {},
   "outputs": [
    {
     "data": {
      "text/html": [
       "<div>\n",
       "<style scoped>\n",
       "    .dataframe tbody tr th:only-of-type {\n",
       "        vertical-align: middle;\n",
       "    }\n",
       "\n",
       "    .dataframe tbody tr th {\n",
       "        vertical-align: top;\n",
       "    }\n",
       "\n",
       "    .dataframe thead th {\n",
       "        text-align: right;\n",
       "    }\n",
       "</style>\n",
       "<table border=\"1\" class=\"dataframe\">\n",
       "  <thead>\n",
       "    <tr style=\"text-align: right;\">\n",
       "      <th></th>\n",
       "      <th>Loan_ID</th>\n",
       "      <th>Gender</th>\n",
       "      <th>Married</th>\n",
       "      <th>Dependents</th>\n",
       "      <th>Education</th>\n",
       "      <th>Self_Employed</th>\n",
       "      <th>ApplicantIncome</th>\n",
       "      <th>CoapplicantIncome</th>\n",
       "      <th>LoanAmount</th>\n",
       "      <th>Loan_Amount_Term</th>\n",
       "      <th>Credit_History</th>\n",
       "      <th>Property_Area</th>\n",
       "      <th>Loan_Status</th>\n",
       "      <th>Loan_Status_X</th>\n",
       "    </tr>\n",
       "  </thead>\n",
       "  <tbody>\n",
       "    <tr>\n",
       "      <th>0</th>\n",
       "      <td>LP001002</td>\n",
       "      <td>Male</td>\n",
       "      <td>No</td>\n",
       "      <td>0</td>\n",
       "      <td>Graduate</td>\n",
       "      <td>No</td>\n",
       "      <td>5849</td>\n",
       "      <td>0.0</td>\n",
       "      <td>NaN</td>\n",
       "      <td>360.0</td>\n",
       "      <td>1.0</td>\n",
       "      <td>Urban</td>\n",
       "      <td>Y</td>\n",
       "      <td>1</td>\n",
       "    </tr>\n",
       "    <tr>\n",
       "      <th>1</th>\n",
       "      <td>LP001003</td>\n",
       "      <td>Male</td>\n",
       "      <td>Yes</td>\n",
       "      <td>1</td>\n",
       "      <td>Graduate</td>\n",
       "      <td>No</td>\n",
       "      <td>4583</td>\n",
       "      <td>1508.0</td>\n",
       "      <td>128.0</td>\n",
       "      <td>360.0</td>\n",
       "      <td>1.0</td>\n",
       "      <td>Rural</td>\n",
       "      <td>N</td>\n",
       "      <td>0</td>\n",
       "    </tr>\n",
       "    <tr>\n",
       "      <th>2</th>\n",
       "      <td>LP001005</td>\n",
       "      <td>Male</td>\n",
       "      <td>Yes</td>\n",
       "      <td>0</td>\n",
       "      <td>Graduate</td>\n",
       "      <td>Yes</td>\n",
       "      <td>3000</td>\n",
       "      <td>0.0</td>\n",
       "      <td>66.0</td>\n",
       "      <td>360.0</td>\n",
       "      <td>1.0</td>\n",
       "      <td>Urban</td>\n",
       "      <td>Y</td>\n",
       "      <td>1</td>\n",
       "    </tr>\n",
       "    <tr>\n",
       "      <th>3</th>\n",
       "      <td>LP001006</td>\n",
       "      <td>Male</td>\n",
       "      <td>Yes</td>\n",
       "      <td>0</td>\n",
       "      <td>Not Graduate</td>\n",
       "      <td>No</td>\n",
       "      <td>2583</td>\n",
       "      <td>2358.0</td>\n",
       "      <td>120.0</td>\n",
       "      <td>360.0</td>\n",
       "      <td>1.0</td>\n",
       "      <td>Urban</td>\n",
       "      <td>Y</td>\n",
       "      <td>1</td>\n",
       "    </tr>\n",
       "    <tr>\n",
       "      <th>4</th>\n",
       "      <td>LP001008</td>\n",
       "      <td>Male</td>\n",
       "      <td>No</td>\n",
       "      <td>0</td>\n",
       "      <td>Graduate</td>\n",
       "      <td>No</td>\n",
       "      <td>6000</td>\n",
       "      <td>0.0</td>\n",
       "      <td>141.0</td>\n",
       "      <td>360.0</td>\n",
       "      <td>1.0</td>\n",
       "      <td>Urban</td>\n",
       "      <td>Y</td>\n",
       "      <td>1</td>\n",
       "    </tr>\n",
       "  </tbody>\n",
       "</table>\n",
       "</div>"
      ],
      "text/plain": [
       "    Loan_ID Gender Married Dependents     Education Self_Employed  \\\n",
       "0  LP001002   Male      No          0      Graduate            No   \n",
       "1  LP001003   Male     Yes          1      Graduate            No   \n",
       "2  LP001005   Male     Yes          0      Graduate           Yes   \n",
       "3  LP001006   Male     Yes          0  Not Graduate            No   \n",
       "4  LP001008   Male      No          0      Graduate            No   \n",
       "\n",
       "   ApplicantIncome  CoapplicantIncome  LoanAmount  Loan_Amount_Term  \\\n",
       "0             5849                0.0         NaN             360.0   \n",
       "1             4583             1508.0       128.0             360.0   \n",
       "2             3000                0.0        66.0             360.0   \n",
       "3             2583             2358.0       120.0             360.0   \n",
       "4             6000                0.0       141.0             360.0   \n",
       "\n",
       "   Credit_History Property_Area Loan_Status  Loan_Status_X  \n",
       "0             1.0         Urban           Y              1  \n",
       "1             1.0         Rural           N              0  \n",
       "2             1.0         Urban           Y              1  \n",
       "3             1.0         Urban           Y              1  \n",
       "4             1.0         Urban           Y              1  "
      ]
     },
     "execution_count": 61,
     "metadata": {},
     "output_type": "execute_result"
    }
   ],
   "source": [
    "train.head(5)"
   ]
  },
  {
   "cell_type": "code",
   "execution_count": 62,
   "metadata": {},
   "outputs": [
    {
     "data": {
      "text/plain": [
       "Loan_ID               0\n",
       "Gender               13\n",
       "Married               3\n",
       "Dependents           15\n",
       "Education             0\n",
       "Self_Employed        32\n",
       "ApplicantIncome       0\n",
       "CoapplicantIncome     0\n",
       "LoanAmount           22\n",
       "Loan_Amount_Term     14\n",
       "Credit_History       50\n",
       "Property_Area         0\n",
       "Loan_Status           0\n",
       "Loan_Status_X         0\n",
       "dtype: int64"
      ]
     },
     "execution_count": 62,
     "metadata": {},
     "output_type": "execute_result"
    }
   ],
   "source": [
    "train.isna().sum()"
   ]
  },
  {
   "cell_type": "code",
   "execution_count": 63,
   "metadata": {},
   "outputs": [
    {
     "data": {
      "image/png": "[encoded data removed]",
      "text/plain": [
       "<Figure size 432x288 with 2 Axes>"
      ]
     },
     "metadata": {
      "needs_background": "light"
     },
     "output_type": "display_data"
    }
   ],
   "source": [
    "sns.heatmap(train.corr(method='pearson'),annot = True)\n",
    "plt.show()"
   ]
  },
  {
   "cell_type": "code",
   "execution_count": null,
   "metadata": {},
   "outputs": [],
   "source": []
  }
 ],
 "metadata": {
  "kernelspec": {
   "display_name": "Python 3.8.2 64-bit ('aceleradev_ds': conda)",
   "language": "python",
   "name": "python38264bitaceleradevdsconda40f3d6bf21ff4c0793cb75ac8f555ff2"
  },
  "language_info": {
   "codemirror_mode": {
    "name": "ipython",
    "version": 3
   },
   "file_extension": ".py",
   "mimetype": "text/x-python",
   "name": "python",
   "nbconvert_exporter": "python",
   "pygments_lexer": "ipython3",
   "version": "3.8.2"
  }
 },
 "nbformat": 4,
 "nbformat_minor": 2
}
